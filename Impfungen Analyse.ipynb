{
 "cells": [
  {
   "cell_type": "markdown",
   "metadata": {},
   "source": [
    "# Corona-Impfungen in Deutschland: Verlauf und Prognose\n",
    "\n",
    "Überblick über Fallzahlen auf Bundesland- und Landkreis-Ebene: https://experience.arcgis.com/experience/478220a4c454480e823b17327b2bf1d4\n",
    "\n",
    "Übersichtliche Darstellung der wichtigsten Infos: https://www.corona-in-zahlen.de/\n",
    "\n",
    "##### Überblick:\n",
    "-\tBis Ende Februar sollen in ganz Deutschland 8,5 Millionen Impfdosen zur Verfügung stehen (https://twitter.com/BMG_Bund/status/1355428166760886274)\n",
    "- Hochrechnung der Bundesregierung über Impflieferungen (bisher unbestätigt): 18,5 Mio. in Q1 2021, 77 Mio. in Q2 2021, 125 Mio. in Q3 2021, 100 Mio. in Q4 2021 (https://twitter.com/MEtzold/status/1356249807229222913)\n"
   ]
  },
  {
   "cell_type": "code",
   "execution_count": 11,
   "metadata": {},
   "outputs": [
    {
     "data": {
      "text/html": [
       "<script>\n",
       "code_show=true; \n",
       "function code_toggle() {\n",
       " if (code_show){\n",
       " $('div.input').hide();\n",
       " } else {\n",
       " $('div.input').show();\n",
       " }\n",
       " code_show = !code_show\n",
       "} \n",
       "$( document ).ready(code_toggle);\n",
       "</script>\n",
       "<form action=\"javascript:code_toggle()\"><input type=\"submit\" value=\"Click here to toggle on/off the raw code.\"></form>"
      ],
      "text/plain": [
       "<IPython.core.display.HTML object>"
      ]
     },
     "execution_count": 11,
     "metadata": {},
     "output_type": "execute_result"
    }
   ],
   "source": [
    "import csv\n",
    "import ipywidgets as widgets\n",
    "from IPython.display import display\n",
    "import matplotlib.pyplot as plt\n",
    "import matplotlib.dates as mdates\n",
    "import pandas as pd\n",
    "import numpy as np\n",
    "import urllib.request\n",
    "import requests\n",
    "import matplotlib as mpl\n",
    "import warnings\n",
    "from bs4 import BeautifulSoup\n",
    "from datetime import datetime\n",
    "pd.options.mode.chained_assignment = None\n",
    "\n",
    "from IPython.display import HTML\n",
    "HTML('''<script>\n",
    "code_show=true; \n",
    "function code_toggle() {\n",
    " if (code_show){\n",
    " $('div.input').hide();\n",
    " } else {\n",
    " $('div.input').show();\n",
    " }\n",
    " code_show = !code_show\n",
    "} \n",
    "$( document ).ready(code_toggle);\n",
    "</script>\n",
    "<form action=\"javascript:code_toggle()\"><input type=\"submit\" value=\"Click here to toggle on/off the raw code.\"></form>''')"
   ]
  },
  {
   "cell_type": "markdown",
   "metadata": {},
   "source": [
    "#### Aktueller R-Wert:"
   ]
  },
  {
   "cell_type": "code",
   "execution_count": 12,
   "metadata": {},
   "outputs": [
    {
     "name": "stdout",
     "output_type": "stream",
     "text": [
      "Aktueller R-Wert Deutschland (7-Tages Durchschnitt): 0,97\n"
     ]
    }
   ],
   "source": [
    "r = requests.get(\"https://www.corona-in-zahlen.de/r-wert/\")\n",
    "doc = BeautifulSoup(r.text, \"html.parser\")\n",
    "counter = 0\n",
    "for card in doc.select(\".row .card-title\"):\n",
    "    if counter == 0:\n",
    "        counter += 1\n",
    "    elif counter == 1:\n",
    "        r_wert = card.text\n",
    "    else:\n",
    "        print(\"Problem: Veränderte Website!\")\n",
    "        \n",
    "print(\"Aktueller R-Wert Deutschland (7-Tages Durchschnitt): \" + str(r_wert))"
   ]
  },
  {
   "cell_type": "markdown",
   "metadata": {},
   "source": [
    "## Bisheriger Verlauf der Impfkampagne:"
   ]
  },
  {
   "cell_type": "code",
   "execution_count": 13,
   "metadata": {},
   "outputs": [],
   "source": [
    "# Einlesen der aktuellesten deutschlandweiten Zeitreihe (RKI)\n",
    "\n",
    "r = urllib.request.urlopen(\"https://impfdashboard.de/static/data/germany_vaccinations_timeseries_v2.tsv\")\n",
    "data = r.read().decode().replace(\"\\t\",\";\")\n",
    "file = open(\"data.txt\", \"w\")\n",
    "for line in data:\n",
    "    file.write(line)\n",
    "file.close()\n",
    "data = pd.read_csv(\"data.txt\", delimiter=\";\",header=0)\n",
    "\n",
    "# Anpassen von Datentypen\n",
    "\n",
    "pd.to_numeric(data[\"dosen_differenz_zum_vortag\"], errors=\"coerce\")\n",
    "data[\"dosen_differenz_zum_vortag\"].iloc[0] = 24080\n",
    "datum = pd.to_datetime(data[\"date\"])\n",
    "data[\"date\"] = datum\n",
    "data.dtypes\n",
    "data[\"date\"] = data[\"date\"].dt.strftime(\"%d.%m.%y\")\n",
    "\n",
    "days = np.arange(len(data))\n",
    "impfungen_kumulativ = np.array(data[\"dosen_kumulativ\"])\n",
    "a = [0]\n",
    "for i in impfungen_kumulativ:\n",
    "    a.append(i)\n",
    "b = np.array(a)\n",
    "impfungen_kumulativ = np.append(impfungen_kumulativ,b[0])\n",
    "c = impfungen_kumulativ - b\n",
    "tägliche_impfungen = c[c>0]\n",
    "\n",
    "data[\"tägliche_impfungen\"] = tägliche_impfungen\n",
    "data[\"tage_seit_impfstart\"] = days\n",
    "pd.options.display.max_columns = None"
   ]
  },
  {
   "cell_type": "code",
   "execution_count": 14,
   "metadata": {},
   "outputs": [
    {
     "data": {
      "text/html": [
       "<div>\n",
       "<style scoped>\n",
       "    .dataframe tbody tr th:only-of-type {\n",
       "        vertical-align: middle;\n",
       "    }\n",
       "\n",
       "    .dataframe tbody tr th {\n",
       "        vertical-align: top;\n",
       "    }\n",
       "\n",
       "    .dataframe thead tr th {\n",
       "        text-align: left;\n",
       "    }\n",
       "</style>\n",
       "<table border=\"1\" class=\"dataframe\">\n",
       "  <thead>\n",
       "    <tr>\n",
       "      <th></th>\n",
       "      <th>RS</th>\n",
       "      <th>Bundesland</th>\n",
       "      <th>Gesamtzahl bisher verabreichter Impfstoffdosen</th>\n",
       "      <th colspan=\"6\" halign=\"left\">Erstimpfung</th>\n",
       "      <th colspan=\"5\" halign=\"left\">Zweitimpfung</th>\n",
       "    </tr>\n",
       "    <tr>\n",
       "      <th></th>\n",
       "      <th>Unnamed: 0_level_1</th>\n",
       "      <th>Unnamed: 1_level_1</th>\n",
       "      <th>Unnamed: 2_level_1</th>\n",
       "      <th colspan=\"4\" halign=\"left\">Impfungen kumulativ</th>\n",
       "      <th>Differenz zum Vortag</th>\n",
       "      <th>Impf-quote, %</th>\n",
       "      <th colspan=\"3\" halign=\"left\">Impfungen kumulativ</th>\n",
       "      <th>Differenz zum Vortag</th>\n",
       "      <th>Impf-quote, %</th>\n",
       "    </tr>\n",
       "    <tr>\n",
       "      <th></th>\n",
       "      <th>Unnamed: 0_level_2</th>\n",
       "      <th>Unnamed: 1_level_2</th>\n",
       "      <th>Unnamed: 2_level_2</th>\n",
       "      <th>Gesamt</th>\n",
       "      <th>BioNTech</th>\n",
       "      <th>Moderna</th>\n",
       "      <th>AstraZeneca</th>\n",
       "      <th>Unnamed: 7_level_2</th>\n",
       "      <th>Unnamed: 8_level_2</th>\n",
       "      <th>Gesamt</th>\n",
       "      <th>BioNTech</th>\n",
       "      <th>Moderna</th>\n",
       "      <th>Unnamed: 12_level_2</th>\n",
       "      <th>Unnamed: 13_level_2</th>\n",
       "    </tr>\n",
       "  </thead>\n",
       "  <tbody>\n",
       "    <tr>\n",
       "      <th>0</th>\n",
       "      <td>08</td>\n",
       "      <td>Baden-Württemberg</td>\n",
       "      <td>1075693</td>\n",
       "      <td>735577</td>\n",
       "      <td>526428</td>\n",
       "      <td>34115</td>\n",
       "      <td>175034</td>\n",
       "      <td>24540</td>\n",
       "      <td>6.62658</td>\n",
       "      <td>340116</td>\n",
       "      <td>329069</td>\n",
       "      <td>11047</td>\n",
       "      <td>8699</td>\n",
       "      <td>3.064</td>\n",
       "    </tr>\n",
       "    <tr>\n",
       "      <th>1</th>\n",
       "      <td>09</td>\n",
       "      <td>Bayern</td>\n",
       "      <td>1410941</td>\n",
       "      <td>954752</td>\n",
       "      <td>719001</td>\n",
       "      <td>37817</td>\n",
       "      <td>197934</td>\n",
       "      <td>30970</td>\n",
       "      <td>7.27445</td>\n",
       "      <td>456189</td>\n",
       "      <td>444658</td>\n",
       "      <td>11531</td>\n",
       "      <td>9049</td>\n",
       "      <td>3.4758</td>\n",
       "    </tr>\n",
       "    <tr>\n",
       "      <th>2</th>\n",
       "      <td>11</td>\n",
       "      <td>Berlin</td>\n",
       "      <td>377427</td>\n",
       "      <td>244174</td>\n",
       "      <td>195308</td>\n",
       "      <td>13170</td>\n",
       "      <td>35696</td>\n",
       "      <td>7392</td>\n",
       "      <td>6.65417</td>\n",
       "      <td>133253</td>\n",
       "      <td>129431</td>\n",
       "      <td>3822</td>\n",
       "      <td>1885</td>\n",
       "      <td>3.63138</td>\n",
       "    </tr>\n",
       "    <tr>\n",
       "      <th>3</th>\n",
       "      <td>12</td>\n",
       "      <td>Brandenburg</td>\n",
       "      <td>221198</td>\n",
       "      <td>142374</td>\n",
       "      <td>97300</td>\n",
       "      <td>5217</td>\n",
       "      <td>39857</td>\n",
       "      <td>6995</td>\n",
       "      <td>5.64552</td>\n",
       "      <td>78824</td>\n",
       "      <td>75791</td>\n",
       "      <td>3033</td>\n",
       "      <td>536</td>\n",
       "      <td>3.12559</td>\n",
       "    </tr>\n",
       "    <tr>\n",
       "      <th>4</th>\n",
       "      <td>04</td>\n",
       "      <td>Bremen</td>\n",
       "      <td>75543</td>\n",
       "      <td>51911</td>\n",
       "      <td>35051</td>\n",
       "      <td>2994</td>\n",
       "      <td>13866</td>\n",
       "      <td>1945</td>\n",
       "      <td>7.6205</td>\n",
       "      <td>23632</td>\n",
       "      <td>22378</td>\n",
       "      <td>1254</td>\n",
       "      <td>288</td>\n",
       "      <td>3.46916</td>\n",
       "    </tr>\n",
       "    <tr>\n",
       "      <th>5</th>\n",
       "      <td>02</td>\n",
       "      <td>Hamburg</td>\n",
       "      <td>194559</td>\n",
       "      <td>130462</td>\n",
       "      <td>91974</td>\n",
       "      <td>4430</td>\n",
       "      <td>34058</td>\n",
       "      <td>4427</td>\n",
       "      <td>7.06249</td>\n",
       "      <td>64097</td>\n",
       "      <td>62560</td>\n",
       "      <td>1537</td>\n",
       "      <td>1066</td>\n",
       "      <td>3.46985</td>\n",
       "    </tr>\n",
       "    <tr>\n",
       "      <th>6</th>\n",
       "      <td>06</td>\n",
       "      <td>Hessen</td>\n",
       "      <td>598486</td>\n",
       "      <td>413657</td>\n",
       "      <td>326982</td>\n",
       "      <td>14494</td>\n",
       "      <td>72181</td>\n",
       "      <td>16272</td>\n",
       "      <td>6.57843</td>\n",
       "      <td>184829</td>\n",
       "      <td>183080</td>\n",
       "      <td>1749</td>\n",
       "      <td>5582</td>\n",
       "      <td>2.93936</td>\n",
       "    </tr>\n",
       "    <tr>\n",
       "      <th>7</th>\n",
       "      <td>13</td>\n",
       "      <td>Mecklenburg-Vorpommern</td>\n",
       "      <td>155188</td>\n",
       "      <td>100038</td>\n",
       "      <td>83737</td>\n",
       "      <td>5587</td>\n",
       "      <td>10714</td>\n",
       "      <td>4504</td>\n",
       "      <td>6.22073</td>\n",
       "      <td>55150</td>\n",
       "      <td>53943</td>\n",
       "      <td>1207</td>\n",
       "      <td>911</td>\n",
       "      <td>3.42943</td>\n",
       "    </tr>\n",
       "    <tr>\n",
       "      <th>8</th>\n",
       "      <td>03</td>\n",
       "      <td>Niedersachsen</td>\n",
       "      <td>717259</td>\n",
       "      <td>502310</td>\n",
       "      <td>397222</td>\n",
       "      <td>16709</td>\n",
       "      <td>88379</td>\n",
       "      <td>16508</td>\n",
       "      <td>6.2839</td>\n",
       "      <td>214949</td>\n",
       "      <td>211274</td>\n",
       "      <td>3675</td>\n",
       "      <td>7983</td>\n",
       "      <td>2.68901</td>\n",
       "    </tr>\n",
       "    <tr>\n",
       "      <th>9</th>\n",
       "      <td>05</td>\n",
       "      <td>Nordrhein-Westfalen</td>\n",
       "      <td>1680571</td>\n",
       "      <td>1152512</td>\n",
       "      <td>889351</td>\n",
       "      <td>25918</td>\n",
       "      <td>237243</td>\n",
       "      <td>33146</td>\n",
       "      <td>6.42167</td>\n",
       "      <td>528059</td>\n",
       "      <td>516936</td>\n",
       "      <td>11123</td>\n",
       "      <td>10991</td>\n",
       "      <td>2.94229</td>\n",
       "    </tr>\n",
       "    <tr>\n",
       "      <th>10</th>\n",
       "      <td>07</td>\n",
       "      <td>Rheinland-Pfalz</td>\n",
       "      <td>433083</td>\n",
       "      <td>289934</td>\n",
       "      <td>204631</td>\n",
       "      <td>4543</td>\n",
       "      <td>80760</td>\n",
       "      <td>11350</td>\n",
       "      <td>7.08209</td>\n",
       "      <td>143149</td>\n",
       "      <td>139301</td>\n",
       "      <td>3848</td>\n",
       "      <td>171</td>\n",
       "      <td>3.49664</td>\n",
       "    </tr>\n",
       "    <tr>\n",
       "      <th>11</th>\n",
       "      <td>10</td>\n",
       "      <td>Saarland</td>\n",
       "      <td>103789</td>\n",
       "      <td>75636</td>\n",
       "      <td>53950</td>\n",
       "      <td>2670</td>\n",
       "      <td>19016</td>\n",
       "      <td>3005</td>\n",
       "      <td>7.6641</td>\n",
       "      <td>28153</td>\n",
       "      <td>26835</td>\n",
       "      <td>1318</td>\n",
       "      <td>841</td>\n",
       "      <td>2.85271</td>\n",
       "    </tr>\n",
       "    <tr>\n",
       "      <th>12</th>\n",
       "      <td>14</td>\n",
       "      <td>Sachsen</td>\n",
       "      <td>400780</td>\n",
       "      <td>282921</td>\n",
       "      <td>246046</td>\n",
       "      <td>12786</td>\n",
       "      <td>24089</td>\n",
       "      <td>8340</td>\n",
       "      <td>6.94801</td>\n",
       "      <td>117859</td>\n",
       "      <td>116207</td>\n",
       "      <td>1652</td>\n",
       "      <td>1901</td>\n",
       "      <td>2.8944</td>\n",
       "    </tr>\n",
       "    <tr>\n",
       "      <th>13</th>\n",
       "      <td>15</td>\n",
       "      <td>Sachsen-Anhalt</td>\n",
       "      <td>196059</td>\n",
       "      <td>132389</td>\n",
       "      <td>95953</td>\n",
       "      <td>7019</td>\n",
       "      <td>29417</td>\n",
       "      <td>4349</td>\n",
       "      <td>6.03199</td>\n",
       "      <td>63670</td>\n",
       "      <td>61987</td>\n",
       "      <td>1683</td>\n",
       "      <td>1067</td>\n",
       "      <td>2.90097</td>\n",
       "    </tr>\n",
       "    <tr>\n",
       "      <th>14</th>\n",
       "      <td>01</td>\n",
       "      <td>Schleswig-Holstein</td>\n",
       "      <td>296583</td>\n",
       "      <td>198748</td>\n",
       "      <td>149693</td>\n",
       "      <td>6314</td>\n",
       "      <td>42741</td>\n",
       "      <td>6772</td>\n",
       "      <td>6.84447</td>\n",
       "      <td>97835</td>\n",
       "      <td>96226</td>\n",
       "      <td>1609</td>\n",
       "      <td>496</td>\n",
       "      <td>3.36924</td>\n",
       "    </tr>\n",
       "    <tr>\n",
       "      <th>15</th>\n",
       "      <td>16</td>\n",
       "      <td>Thüringen</td>\n",
       "      <td>224079</td>\n",
       "      <td>148025</td>\n",
       "      <td>113205</td>\n",
       "      <td>8316</td>\n",
       "      <td>26504</td>\n",
       "      <td>3164</td>\n",
       "      <td>6.93853</td>\n",
       "      <td>76054</td>\n",
       "      <td>73376</td>\n",
       "      <td>2678</td>\n",
       "      <td>2215</td>\n",
       "      <td>3.56496</td>\n",
       "    </tr>\n",
       "    <tr>\n",
       "      <th>16</th>\n",
       "      <td>NaN</td>\n",
       "      <td>Bund *</td>\n",
       "      <td>-</td>\n",
       "      <td>-</td>\n",
       "      <td>-</td>\n",
       "      <td>-</td>\n",
       "      <td>-</td>\n",
       "      <td>-</td>\n",
       "      <td>-</td>\n",
       "      <td>-</td>\n",
       "      <td>-</td>\n",
       "      <td>-</td>\n",
       "      <td>-</td>\n",
       "      <td>-</td>\n",
       "    </tr>\n",
       "    <tr>\n",
       "      <th>17</th>\n",
       "      <td>NaN</td>\n",
       "      <td>Gesamt</td>\n",
       "      <td>8161238</td>\n",
       "      <td>5555420</td>\n",
       "      <td>4225832</td>\n",
       "      <td>202099</td>\n",
       "      <td>1127489</td>\n",
       "      <td>183679</td>\n",
       "      <td>6.67986</td>\n",
       "      <td>2605818</td>\n",
       "      <td>2543052</td>\n",
       "      <td>62766</td>\n",
       "      <td>53681</td>\n",
       "      <td>3.13325</td>\n",
       "    </tr>\n",
       "    <tr>\n",
       "      <th>18</th>\n",
       "      <td>NaN</td>\n",
       "      <td>NaN</td>\n",
       "      <td>NaN</td>\n",
       "      <td>NaN</td>\n",
       "      <td>NaN</td>\n",
       "      <td>NaN</td>\n",
       "      <td>NaN</td>\n",
       "      <td>NaN</td>\n",
       "      <td>NaN</td>\n",
       "      <td>NaN</td>\n",
       "      <td>NaN</td>\n",
       "      <td>NaN</td>\n",
       "      <td>NaN</td>\n",
       "      <td>NaN</td>\n",
       "    </tr>\n",
       "    <tr>\n",
       "      <th>19</th>\n",
       "      <td>RS: Regionalschlüssel eines jeden Bundeslandes...</td>\n",
       "      <td>NaN</td>\n",
       "      <td>NaN</td>\n",
       "      <td>NaN</td>\n",
       "      <td>NaN</td>\n",
       "      <td>NaN</td>\n",
       "      <td>NaN</td>\n",
       "      <td>NaN</td>\n",
       "      <td>NaN</td>\n",
       "      <td>NaN</td>\n",
       "      <td>NaN</td>\n",
       "      <td>NaN</td>\n",
       "      <td>NaN</td>\n",
       "      <td>NaN</td>\n",
       "    </tr>\n",
       "    <tr>\n",
       "      <th>20</th>\n",
       "      <td>* Impfungen, die in den bundeseigenen Impfzent...</td>\n",
       "      <td>NaN</td>\n",
       "      <td>NaN</td>\n",
       "      <td>NaN</td>\n",
       "      <td>NaN</td>\n",
       "      <td>NaN</td>\n",
       "      <td>NaN</td>\n",
       "      <td>NaN</td>\n",
       "      <td>NaN</td>\n",
       "      <td>NaN</td>\n",
       "      <td>NaN</td>\n",
       "      <td>NaN</td>\n",
       "      <td>NaN</td>\n",
       "      <td>NaN</td>\n",
       "    </tr>\n",
       "  </tbody>\n",
       "</table>\n",
       "</div>"
      ],
      "text/plain": [
       "                                                   RS              Bundesland  \\\n",
       "                                   Unnamed: 0_level_1      Unnamed: 1_level_1   \n",
       "                                   Unnamed: 0_level_2      Unnamed: 1_level_2   \n",
       "0                                                  08       Baden-Württemberg   \n",
       "1                                                  09                  Bayern   \n",
       "2                                                  11                  Berlin   \n",
       "3                                                  12             Brandenburg   \n",
       "4                                                  04                  Bremen   \n",
       "5                                                  02                 Hamburg   \n",
       "6                                                  06                  Hessen   \n",
       "7                                                  13  Mecklenburg-Vorpommern   \n",
       "8                                                  03           Niedersachsen   \n",
       "9                                                  05     Nordrhein-Westfalen   \n",
       "10                                                 07         Rheinland-Pfalz   \n",
       "11                                                 10                Saarland   \n",
       "12                                                 14                 Sachsen   \n",
       "13                                                 15          Sachsen-Anhalt   \n",
       "14                                                 01      Schleswig-Holstein   \n",
       "15                                                 16               Thüringen   \n",
       "16                                                NaN                  Bund *   \n",
       "17                                                NaN                  Gesamt   \n",
       "18                                                NaN                     NaN   \n",
       "19  RS: Regionalschlüssel eines jeden Bundeslandes...                     NaN   \n",
       "20  * Impfungen, die in den bundeseigenen Impfzent...                     NaN   \n",
       "\n",
       "   Gesamtzahl bisher verabreichter Impfstoffdosen         Erstimpfung  \\\n",
       "                               Unnamed: 2_level_1 Impfungen kumulativ   \n",
       "                               Unnamed: 2_level_2              Gesamt   \n",
       "0                                         1075693              735577   \n",
       "1                                         1410941              954752   \n",
       "2                                          377427              244174   \n",
       "3                                          221198              142374   \n",
       "4                                           75543               51911   \n",
       "5                                          194559              130462   \n",
       "6                                          598486              413657   \n",
       "7                                          155188              100038   \n",
       "8                                          717259              502310   \n",
       "9                                         1680571             1152512   \n",
       "10                                         433083              289934   \n",
       "11                                         103789               75636   \n",
       "12                                         400780              282921   \n",
       "13                                         196059              132389   \n",
       "14                                         296583              198748   \n",
       "15                                         224079              148025   \n",
       "16                                              -                   -   \n",
       "17                                        8161238             5555420   \n",
       "18                                            NaN                 NaN   \n",
       "19                                            NaN                 NaN   \n",
       "20                                            NaN                 NaN   \n",
       "\n",
       "                                                                         \\\n",
       "                                Differenz zum Vortag      Impf-quote, %   \n",
       "   BioNTech Moderna AstraZeneca   Unnamed: 7_level_2 Unnamed: 8_level_2   \n",
       "0    526428   34115      175034                24540            6.62658   \n",
       "1    719001   37817      197934                30970            7.27445   \n",
       "2    195308   13170       35696                 7392            6.65417   \n",
       "3     97300    5217       39857                 6995            5.64552   \n",
       "4     35051    2994       13866                 1945             7.6205   \n",
       "5     91974    4430       34058                 4427            7.06249   \n",
       "6    326982   14494       72181                16272            6.57843   \n",
       "7     83737    5587       10714                 4504            6.22073   \n",
       "8    397222   16709       88379                16508             6.2839   \n",
       "9    889351   25918      237243                33146            6.42167   \n",
       "10   204631    4543       80760                11350            7.08209   \n",
       "11    53950    2670       19016                 3005             7.6641   \n",
       "12   246046   12786       24089                 8340            6.94801   \n",
       "13    95953    7019       29417                 4349            6.03199   \n",
       "14   149693    6314       42741                 6772            6.84447   \n",
       "15   113205    8316       26504                 3164            6.93853   \n",
       "16        -       -           -                    -                  -   \n",
       "17  4225832  202099     1127489               183679            6.67986   \n",
       "18      NaN     NaN         NaN                  NaN                NaN   \n",
       "19      NaN     NaN         NaN                  NaN                NaN   \n",
       "20      NaN     NaN         NaN                  NaN                NaN   \n",
       "\n",
       "          Zweitimpfung                                        \\\n",
       "   Impfungen kumulativ                  Differenz zum Vortag   \n",
       "                Gesamt BioNTech Moderna  Unnamed: 12_level_2   \n",
       "0               340116   329069   11047                 8699   \n",
       "1               456189   444658   11531                 9049   \n",
       "2               133253   129431    3822                 1885   \n",
       "3                78824    75791    3033                  536   \n",
       "4                23632    22378    1254                  288   \n",
       "5                64097    62560    1537                 1066   \n",
       "6               184829   183080    1749                 5582   \n",
       "7                55150    53943    1207                  911   \n",
       "8               214949   211274    3675                 7983   \n",
       "9               528059   516936   11123                10991   \n",
       "10              143149   139301    3848                  171   \n",
       "11               28153    26835    1318                  841   \n",
       "12              117859   116207    1652                 1901   \n",
       "13               63670    61987    1683                 1067   \n",
       "14               97835    96226    1609                  496   \n",
       "15               76054    73376    2678                 2215   \n",
       "16                   -        -       -                    -   \n",
       "17             2605818  2543052   62766                53681   \n",
       "18                 NaN      NaN     NaN                  NaN   \n",
       "19                 NaN      NaN     NaN                  NaN   \n",
       "20                 NaN      NaN     NaN                  NaN   \n",
       "\n",
       "                        \n",
       "         Impf-quote, %  \n",
       "   Unnamed: 13_level_2  \n",
       "0                3.064  \n",
       "1               3.4758  \n",
       "2              3.63138  \n",
       "3              3.12559  \n",
       "4              3.46916  \n",
       "5              3.46985  \n",
       "6              2.93936  \n",
       "7              3.42943  \n",
       "8              2.68901  \n",
       "9              2.94229  \n",
       "10             3.49664  \n",
       "11             2.85271  \n",
       "12              2.8944  \n",
       "13             2.90097  \n",
       "14             3.36924  \n",
       "15             3.56496  \n",
       "16                   -  \n",
       "17             3.13325  \n",
       "18                 NaN  \n",
       "19                 NaN  \n",
       "20                 NaN  "
      ]
     },
     "metadata": {},
     "output_type": "display_data"
    }
   ],
   "source": [
    "# Einlesen der aktuellsten Aufschlüsselung nach Bundesländern (RKI)\n",
    "\n",
    "url = \"https://www.rki.de/DE/Content/InfAZ/N/Neuartiges_Coronavirus/Daten/Impfquotenmonitoring.xlsx;jsessionid=2E9CE964B41ED71B14C434A8B4C94A54.internet052?__blob=publicationFile\"\n",
    "r = requests.get(url)\n",
    "with open('Impfquotenmonitoring.xlsx', 'wb') as outfile:\n",
    "    outfile.write(r.content)\n",
    "data2 = pd.read_excel(\"Impfquotenmonitoring.xlsx\",sheet_name=1,header=[0,1,2])\n",
    "display(data2)"
   ]
  },
  {
   "cell_type": "markdown",
   "metadata": {},
   "source": [
    "Geschätzter Bevölkerungsanteil, der für Herdenimmunität nötig ist:"
   ]
  },
  {
   "cell_type": "code",
   "execution_count": 15,
   "metadata": {},
   "outputs": [
    {
     "data": {
      "application/vnd.jupyter.widget-view+json": {
       "model_id": "c50d6e42ff374cc2a6711caf4b4bde6c",
       "version_major": 2,
       "version_minor": 0
      },
      "text/plain": [
       "IntSlider(value=70, continuous_update=False, description='Eingabe (%):', min=50)"
      ]
     },
     "metadata": {},
     "output_type": "display_data"
    }
   ],
   "source": [
    "input_herde = widgets.IntSlider(\n",
    "    value=70,\n",
    "    min=50,\n",
    "    max=100,\n",
    "    step=1,\n",
    "    description='Eingabe (%):',\n",
    "    disabled=False,\n",
    "    continuous_update=False,\n",
    "    orientation='horizontal',\n",
    "    readout=True,\n",
    "    readout_format='d'\n",
    ")\n",
    "\n",
    "display(input_herde)"
   ]
  },
  {
   "cell_type": "code",
   "execution_count": 16,
   "metadata": {},
   "outputs": [
    {
     "data": {
      "application/vnd.jupyter.widget-view+json": {
       "model_id": "b48f5fcd4194483e9f021bc7257d54d3",
       "version_major": 2,
       "version_minor": 0
      },
      "text/plain": [
       "Button(description='Verwenden', style=ButtonStyle())"
      ]
     },
     "metadata": {},
     "output_type": "display_data"
    }
   ],
   "source": [
    "gruppe1 = 8000000 # 80 und älter\n",
    "gruppe2 = 15630000 # 70 und älter\n",
    "gruppe3 = 29340000 # 60 und älter\n",
    "gruppe4 = 83157000 * 0.7\n",
    "\n",
    "def use(event):\n",
    "    global gruppe4\n",
    "    herde = input_herde.value/100\n",
    "    gruppe4 = int(round(83157000 * herde,0))\n",
    "    print(\"Eingabe verwendet! Neuer Wert für Herdenimmunität: \" + str(f\"{gruppe4:,d}\"))\n",
    "\n",
    "button_herde = widgets.Button(description=\"Verwenden\")\n",
    "display(button_herde)\n",
    "button_herde.on_click(use)"
   ]
  },
  {
   "cell_type": "markdown",
   "metadata": {},
   "source": [
    "#### Impfgruppen nach Priorität\n",
    "Quelle: https://www.bundesregierung.de/breg-de/themen/corona-informationen-impfung/corona-impfverordnung-1829940\n",
    "\n",
    "- Gruppe 1: 80+ Jährige sowie wichtiges Gesundheitspersonal\n",
    "- Gruppe 2: 70+ Jährige (sowie bestimmte Patientengruppen, hier nicht integriert)\n",
    "- Gruppe 3: 60+ Jährige sowie Polizei/Feuerwehr/Lehrer/Erzieher\n",
    "- Gruppe 4: Alle, Herdenimmunität hier als 70% der Gesamtbevölkerung berechnet\n",
    "\n",
    "Quelle für Altersgruppen: https://www.destatis.de/DE/Presse/Pressemitteilungen/2020/12/PD20_N082_122.html\n",
    "\n",
    "Schätzungen für Berufsgruppen:\n",
    "- Wichtiges Gesundheitspersonal: 2,4 Millionen (https://www-genesis.destatis.de/genesis/online?sequenz=tabelleErgebnis&selectionname=23621-0001&zeitscheiben=10#abreadcrumb)\n",
    "- Polizei (Vollzugsbeamte): 275.000 (https://www.welt.de/politik/deutschland/article170625072/Zahl-der-Polizisten-erreicht-neuen-Hoechststand.html#:~:text=Die%20Zahl%20der%20Polizisten%20in,noch%20%C3%BCber%2010.000%20Stellen%20weniger.)\n",
    "- Feuerwehr: 33.000 (Hauptberuflich) + 97.000 (Freiwillig) (https://www.feuerwehrverband.de/presse/statistik/#:~:text=2018%20(2017)%20gab%20es%20in,und%20771%20(770)%20Werkfeuerwehren.)\n",
    "- Lehrer: 800.000 (https://de.statista.com/statistik/daten/studie/201496/umfrage/anzahl-der-lehrer-in-deutschland-nach-bundeslaendern/#:~:text=In%20Deutschland%20gab%20es%20im,und%20Lehrerinnen%20an%20allgemeinbildenden%20Schulen)\n",
    "- Erzieher: 785.000 (https://www.destatis.de/DE/Themen/Gesellschaft-Umwelt/Soziales/Kindertagesbetreuung/Tabellen/beschaeftigte-merkmale-2018.html)\n",
    "\n",
    "Damit ergeben sich folgende (ungefähren) Zahlen (kumuliert) für die Gruppenstärken:"
   ]
  },
  {
   "cell_type": "markdown",
   "metadata": {},
   "source": [
    "| Impfgruppe | Kumulierte Anzahl |\n",
    "|---|---|\n",
    "| 1 | 8.000.000 |\n",
    "| 1 + 2 | 15.630.000 |\n",
    "| 1 + 2 + 3 | 29.340.000 |\n",
    "| Herdenimmunität | 58.210.000 |"
   ]
  },
  {
   "cell_type": "markdown",
   "metadata": {},
   "source": [
    "#### Sämtliche Daten:"
   ]
  },
  {
   "cell_type": "code",
   "execution_count": 17,
   "metadata": {},
   "outputs": [
    {
     "data": {
      "application/vnd.jupyter.widget-view+json": {
       "model_id": "91ad1b32d12f49779a7f70468ee44eb1",
       "version_major": 2,
       "version_minor": 0
      },
      "text/plain": [
       "Button(description='Anzeigen', style=ButtonStyle())"
      ]
     },
     "metadata": {},
     "output_type": "display_data"
    }
   ],
   "source": [
    "stopper1 = []\n",
    "def show_data(arg):\n",
    "    if stopper1 == []:\n",
    "        display(data)\n",
    "        stopper1.append(1)\n",
    "    else:\n",
    "        pass\n",
    "\n",
    "button = widgets.Button(description=\"Anzeigen\")\n",
    "display(button)\n",
    "button.on_click(show_data)"
   ]
  },
  {
   "cell_type": "markdown",
   "metadata": {},
   "source": [
    "\n",
    "\n",
    "#### Letzter Tag der Aufzeichnungen:\n",
    "\n"
   ]
  },
  {
   "cell_type": "code",
   "execution_count": 18,
   "metadata": {},
   "outputs": [
    {
     "data": {
      "application/vnd.jupyter.widget-view+json": {
       "model_id": "4236f863535e469c8d123ae321e244d0",
       "version_major": 2,
       "version_minor": 0
      },
      "text/plain": [
       "Button(description='Anzeigen', style=ButtonStyle())"
      ]
     },
     "metadata": {},
     "output_type": "display_data"
    }
   ],
   "source": [
    "stopper2 = []\n",
    "def show_last(arg):\n",
    "    if stopper2 == []:\n",
    "        latest = data.iloc[-1]\n",
    "        print(latest)\n",
    "        stopper2.append(1)\n",
    "    else:\n",
    "        pass\n",
    "\n",
    "button = widgets.Button(description=\"Anzeigen\")\n",
    "display(button)\n",
    "button.on_click(show_last)"
   ]
  },
  {
   "cell_type": "markdown",
   "metadata": {},
   "source": [
    "#### Grafische Darstellung des bisherigen Verlaufs"
   ]
  },
  {
   "cell_type": "code",
   "execution_count": 19,
   "metadata": {
    "scrolled": true
   },
   "outputs": [
    {
     "data": {
      "image/png": "[encoded data removed]",
      "text/plain": [
       "<Figure size 576x288 with 1 Axes>"
      ]
     },
     "metadata": {
      "needs_background": "light"
     },
     "output_type": "display_data"
    },
    {
     "data": {
      "image/png": "[encoded data removed]",
      "text/plain": [
       "<Figure size 612x306 with 1 Axes>"
      ]
     },
     "metadata": {
      "needs_background": "light"
     },
     "output_type": "display_data"
    },
    {
     "data": {
      "image/png": "[encoded data removed]",
      "text/plain": [
       "<Figure size 612x306 with 1 Axes>"
      ]
     },
     "metadata": {
      "needs_background": "light"
     },
     "output_type": "display_data"
    },
    {
     "data": {
      "image/png": "[encoded data removed]",
      "text/plain": [
       "<Figure size 640x320 with 1 Axes>"
      ]
     },
     "metadata": {
      "needs_background": "light"
     },
     "output_type": "display_data"
    }
   ],
   "source": [
    "%matplotlib inline\n",
    "ax=data.plot(kind=\"line\", x=\"date\", y=\"dosen_kumulativ\", color=\"DarkBlue\", figsize=(8, 4))\n",
    "ax2=data.plot(kind=\"line\", x=\"date\", y=\"indikation_alter_dosen\", linestyle=\"dashed\", color=\"DarkGreen\",ax=ax)\n",
    "ax=data.plot(kind=\"line\",x=\"date\",y=\"personen_voll_kumulativ\", linestyle=\"dashed\", color=\"Orange\",ax=ax)\n",
    "plt.title(\"Bisherige Impfungen gesamt\")\n",
    "plt.grid(True)\n",
    "ax.yaxis.set_major_formatter(mpl.ticker.StrMethodFormatter('{x:,.0f}'))\n",
    "#plt.axhline(y=gruppe1, label=\"Gruppe 1\")\n",
    "plt.tight_layout()\n",
    "plt.show()\n",
    "\n",
    "ax=data.plot(kind=\"line\", x=\"date\", y=\"tägliche_impfungen\", color=\"DarkBlue\", figsize=(8.5, 4.25))\n",
    "ax.yaxis.set_major_formatter(mpl.ticker.StrMethodFormatter('{x:,.0f}'))\n",
    "plt.title(\"Impfungen pro Tag\")\n",
    "plt.grid(True)\n",
    "plt.show()\n",
    "\n",
    "ax=data.plot(kind=\"line\",x=\"date\",y=\"personen_voll_kumulativ\", linestyle=\"dashed\", color=\"Orange\", figsize=(8.5, 4.25))\n",
    "ax.yaxis.set_major_formatter(mpl.ticker.StrMethodFormatter('{x:,.0f}'))\n",
    "plt.title(\"Immunisierte\")\n",
    "plt.grid(True)\n",
    "plt.show()\n",
    "\n",
    "fig = plt.figure(figsize=(8, 4), dpi=80)\n",
    "#data2['Bevölkerung'] = data2.iloc[:,2]/(data2.iloc[:,7]/100)\n",
    "data2['Zweitimpfung_quote'] = data2.iloc[:,13]\n",
    "data2.drop(data2.tail(5).index,inplace=True)\n",
    "data2.sort_values(by=\"Zweitimpfung_quote\",inplace=True)\n",
    "plt.bar(x=data2.iloc[:,1],height=data2['Zweitimpfung_quote'])\n",
    "plt.xticks(x=data2.iloc[:,1], rotation='vertical')\n",
    "plt.title('Anteil Immunisierte (Zweitimpfung) in %')\n",
    "plt.show()"
   ]
  },
  {
   "cell_type": "markdown",
   "metadata": {},
   "source": [
    "## Prognosen über zukünftige Entwicklungen\n",
    "\n",
    "#### Wichtiger Hinweis: \n",
    "Zahlen über Immunisierte werden als Dosen/2 berechnet, was aufgrund der verzögerten Zweitimpfung nicht ganz korrekt ist (für längere Zeithorizonte jedoch recht akkurat sein sollte)."
   ]
  },
  {
   "cell_type": "markdown",
   "metadata": {},
   "source": [
    "##### Moving Average Prognose (bis August 2021)\n",
    "Berechnung mittels des gleitenden Durchschnitts der täglichen Impfungen der letzten 7 Tage"
   ]
  },
  {
   "cell_type": "code",
   "execution_count": 20,
   "metadata": {},
   "outputs": [],
   "source": [
    "dates_future = pd.date_range(start='2020-12-27', end='2021-8-1')\n",
    "reps= len(dates_future)"
   ]
  },
  {
   "cell_type": "code",
   "execution_count": 21,
   "metadata": {},
   "outputs": [
    {
     "name": "stdout",
     "output_type": "stream",
     "text": [
      " \n",
      "Durchschnittliche Tagesimpfungen der letzten 7 Tage: 217,000\n",
      "\n"
     ]
    },
    {
     "data": {
      "image/png": "[encoded data removed]",
      "text/plain": [
       "<Figure size 800x320 with 1 Axes>"
      ]
     },
     "metadata": {
      "needs_background": "light"
     },
     "output_type": "display_data"
    },
    {
     "name": "stdout",
     "output_type": "stream",
     "text": [
      "\n",
      "Immunisierte bis August 2021: 18,338,318\n",
      "Benötigte Impfdosen bis August 2021: 36,676,636\n"
     ]
    }
   ],
   "source": [
    "warnings.filterwarnings(\"ignore\",category=mpl.cbook.mplDeprecation)\n",
    "\n",
    "rolling_mean = round(data[\"dosen_differenz_zum_vortag\"].rolling(window=7).mean().iloc[-1],-2)\n",
    "\n",
    "print(\" \")\n",
    "print(\"Durchschnittliche Tagesimpfungen der letzten 7 Tage: \" + str(f\"{int(rolling_mean):,d}\"))\n",
    "\n",
    "prognose = list(data[\"personen_voll_kumulativ\"])\n",
    "while len(prognose) < reps:\n",
    "    prognose.append(prognose[-1]+rolling_mean/2)\n",
    "\n",
    "print(\"\")\n",
    "fig = plt.figure(figsize=(10, 4), dpi=80)\n",
    "plt.grid(True)\n",
    "plt.title(\"Moving Average Prognose: Immunisierte\")\n",
    "ax1 = fig.add_subplot(111)\n",
    "lines = ax1.plot(dates_future, prognose)\n",
    "ax1.xaxis.set_major_formatter(mdates.DateFormatter('%Y-%m'))\n",
    "ax1.yaxis.set_major_formatter(mpl.ticker.StrMethodFormatter('{x:,.0f}'))\n",
    "if prognose[-1] > gruppe1 - 1000000:\n",
    "    plt.axhline(y=gruppe1, label=\"Gruppe 1\", color=\"#f5f11d\")\n",
    "if prognose[-1] > gruppe2 - 1000000:\n",
    "    plt.axhline(y=gruppe2, label=\"Gruppe 2\", color=\"#f5bb1d\")\n",
    "if prognose[-1] > gruppe3 - 1000000:\n",
    "    plt.axhline(y=gruppe3, label=\"Gruppe 3\", color=\"DarkGreen\")\n",
    "plt.legend()\n",
    "plt.show()\n",
    "print(\"\")\n",
    "\n",
    "prognose_end = round(prognose[-1])\n",
    "print(\"Immunisierte bis August 2021: \" + str(f\"{prognose_end:,d}\"))\n",
    "prognose_end = round(prognose[-1])\n",
    "print(\"Benötigte Impfdosen bis August 2021: \" + str(f\"{prognose_end*2:,d}\"))"
   ]
  },
  {
   "cell_type": "markdown",
   "metadata": {},
   "source": [
    "##### Manuelle Prognose (bis Ende 2021)"
   ]
  },
  {
   "cell_type": "markdown",
   "metadata": {},
   "source": [
    "Benötigte Eingabe: Geschätzte Impfungen pro Tag für die 4 Quartale des Jahres 2021"
   ]
  },
  {
   "cell_type": "code",
   "execution_count": 22,
   "metadata": {},
   "outputs": [
    {
     "data": {
      "application/vnd.jupyter.widget-view+json": {
       "model_id": "3897dceb15b94c6cbb4fa668727fbee7",
       "version_major": 2,
       "version_minor": 0
      },
      "text/plain": [
       "IntText(value=100000, description='1. Quartal')"
      ]
     },
     "metadata": {},
     "output_type": "display_data"
    },
    {
     "data": {
      "application/vnd.jupyter.widget-view+json": {
       "model_id": "46298bcac1534c43bfae17a01c796c57",
       "version_major": 2,
       "version_minor": 0
      },
      "text/plain": [
       "IntText(value=200000, description='2. Quartal')"
      ]
     },
     "metadata": {},
     "output_type": "display_data"
    },
    {
     "data": {
      "application/vnd.jupyter.widget-view+json": {
       "model_id": "a24ee204f49a4919a275dd6b6ba374e5",
       "version_major": 2,
       "version_minor": 0
      },
      "text/plain": [
       "IntText(value=300000, description='3. Quartal')"
      ]
     },
     "metadata": {},
     "output_type": "display_data"
    },
    {
     "data": {
      "application/vnd.jupyter.widget-view+json": {
       "model_id": "a9c1b8a033754ce9abb6a5581b4cdac6",
       "version_major": 2,
       "version_minor": 0
      },
      "text/plain": [
       "IntText(value=300000, description='4. Quartal')"
      ]
     },
     "metadata": {},
     "output_type": "display_data"
    },
    {
     "data": {
      "application/vnd.jupyter.widget-view+json": {
       "model_id": "6b4fe169f1c54537a66a28fc3365e2b9",
       "version_major": 2,
       "version_minor": 0
      },
      "text/plain": [
       "Button(description='Simulieren', style=ButtonStyle())"
      ]
     },
     "metadata": {},
     "output_type": "display_data"
    }
   ],
   "source": [
    "dates_future = pd.date_range(start='2020-12-27', end='2022-1-1')\n",
    "reps= len(dates_future)\n",
    "\n",
    "input_Q1 = widgets.IntText(description=\"1. Quartal\", value=100000)\n",
    "input_Q2 = widgets.IntText(description=\"2. Quartal\", value=200000)\n",
    "input_Q3 = widgets.IntText(description=\"3. Quartal\", value=300000)\n",
    "input_Q4 = widgets.IntText(description=\"4. Quartal\", value=300000)\n",
    "display(input_Q1)\n",
    "display(input_Q2)\n",
    "display(input_Q3)\n",
    "display(input_Q4)\n",
    "\n",
    "\n",
    "start = datetime(2019,12,27)\n",
    "now = len(data)\n",
    "Q1 = datetime(2020,3,31)\n",
    "Q2 = datetime(2020,6,30)\n",
    "Q3 = datetime(2020,9,30)\n",
    "Q4 = datetime(2020,12,31)\n",
    "\n",
    "days_future = list(range(0,reps))\n",
    "\n",
    "def klick(event):\n",
    "    prognose2 = list(data[\"dosen_kumulativ\"])\n",
    "    days_left = len(days_future) - len(days)\n",
    "    days_future2 = list(range(0,days_left))\n",
    "    value = prognose2[-1]\n",
    "    for i in days_future2:\n",
    "        if i < ((Q1 - start).days - now):\n",
    "            tägliche_impfungen_geschätzt = input_Q1.value\n",
    "        elif i < ((Q2 - start).days - now):\n",
    "            tägliche_impfungen_geschätzt = input_Q2.value\n",
    "        elif i < ((Q3 - start).days - now):\n",
    "            tägliche_impfungen_geschätzt = input_Q3.value\n",
    "        elif i <= ((Q4 - start).days - now):\n",
    "            tägliche_impfungen_geschätzt = input_Q4.value\n",
    "        else:\n",
    "            print(\"Problem bei der Simulation: Code überprüfen!\")\n",
    "        value += tägliche_impfungen_geschätzt\n",
    "        prognose2.append(value)\n",
    "    prognose2 = [i/2 for i in prognose2]\n",
    "    print(\"\")\n",
    "    print(\"\")\n",
    "    print(\"Prognose für \" + str(f\"{input_Q1.value:,d}\") + \" tägl. Impfungen im 1.Quartal | \" \n",
    "          + str(f\"{input_Q2.value:,d}\") + \" im 2.Quartal | \"\n",
    "          + str(f\"{input_Q3.value:,d}\") + \" im 3.Quartal | \"\n",
    "          + str(f\"{input_Q4.value:,d}\") + \" im 4.Quartal.\")\n",
    "    print(\"\")\n",
    "    fig = plt.figure(figsize=(10, 4), dpi=80)\n",
    "    plt.grid(True)\n",
    "    plt.title(\"Manuelle Prognose: Immunisierte\")\n",
    "    ax1 = fig.add_subplot(111)\n",
    "    lines = ax1.plot(dates_future, prognose2)\n",
    "    ax1.xaxis.set_major_formatter(mdates.DateFormatter('%Y-%m'))\n",
    "    ax1.yaxis.set_major_formatter(mpl.ticker.StrMethodFormatter('{x:,.0f}'))\n",
    "    plt.axhline(y=gruppe1, label=\"Gruppe 1\", color=\"#f5f11d\")\n",
    "    plt.axhline(y=gruppe2, label=\"Gruppe 2\", color=\"#f5bb1d\")\n",
    "    plt.axhline(y=gruppe3, label=\"Gruppe 3\", color=\"DarkGreen\")\n",
    "    plt.axhline(y=gruppe4, label=\"Herdenimmunität\", color=\"Black\")\n",
    "    plt.legend(loc='upper left')\n",
    "    plt.show()\n",
    "    print(\"\")\n",
    "    prognose_end = round(prognose2[-1])\n",
    "    print(\"Immunisierte bis Januar 2022: \" + str(f\"{prognose_end:,d}\"))\n",
    "    prognose_end = round(prognose2[-1]*2)\n",
    "    print(\"Benötigte Impfdosen bis Januar 2022: \" + str(f\"{prognose_end:,d}\"))\n",
    "    print(\"\")\n",
    "    print(\"\")\n",
    "    print(\"\")\n",
    "    \n",
    "button = widgets.Button(description=\"Simulieren\")\n",
    "display(button)\n",
    "button.on_click(klick)"
   ]
  },
  {
   "cell_type": "code",
   "execution_count": null,
   "metadata": {},
   "outputs": [],
   "source": []
  }
 ],
 "metadata": {
  "kernelspec": {
   "display_name": "Python 3",
   "language": "python",
   "name": "python3"
  },
  "language_info": {
   "codemirror_mode": {
    "name": "ipython",
    "version": 3
   },
   "file_extension": ".py",
   "mimetype": "text/x-python",
   "name": "python",
   "nbconvert_exporter": "python",
   "pygments_lexer": "ipython3",
   "version": "3.7.6"
  }
 },
 "nbformat": 4,
 "nbformat_minor": 4
}
